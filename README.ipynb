{
 "cells": [
  {
   "cell_type": "markdown",
   "id": "cb515e2a-7f48-454a-8962-3f604d3eb00b",
   "metadata": {},
   "source": [
    "# APA - Octave/Matlab arbitrary precision arithmetic."
   ]
  },
  {
   "cell_type": "markdown",
   "id": "3d298073-4ecd-4582-8f11-e9ddd8a8f193",
   "metadata": {},
   "source": [
    "## Installation\n",
    "\n",
    "From the Octave command-line run:"
   ]
  },
  {
   "cell_type": "code",
   "execution_count": null,
   "id": "f9668ec5-51e5-4bb7-bca7-baffc620e717",
   "metadata": {},
   "outputs": [],
   "source": [
    "pkg install 'https://github.com/gnu-octave/apa/releases/download/v0.1.6/apa-0.1.6.zip'\n",
    "pkg load apa\n",
    "pkg test apa"
   ]
  },
  {
   "cell_type": "markdown",
   "id": "6dbc0ecb-238e-4496-86c6-4b5fefb96467",
   "metadata": {},
   "source": [
    "From the Matlab command-line run (also works for Octave):"
   ]
  },
  {
   "cell_type": "code",
   "execution_count": null,
   "id": "66b7afda-6ee7-4241-8c85-482c03d34b1e",
   "metadata": {},
   "outputs": [],
   "source": [
    "urlwrite ('https://github.com/gnu-octave/apa/releases/download/v0.1.6/apa-0.1.6.zip', ...\n",
    "          'apa-0.1.6.zip');\n",
    "unzip ('apa-0.1.6.zip');\n",
    "cd (fullfile ('apa-0.1.6', 'inst'))\n",
    "install_apa\n",
    "test_apa"
   ]
  },
  {
   "cell_type": "markdown",
   "id": "24925e83-23be-48d1-b1e1-ed14141d574f",
   "metadata": {},
   "source": [
    "## High-level MPFR Interface\n",
    "\n",
    "The high-level MPFR interface is given through the `@mpfr_t` class.\n",
    "A variable of that type \"behaves\" like a \"normal\" built-in Octave/Matlab\n",
    "data type."
   ]
  },
  {
   "cell_type": "code",
   "execution_count": 3,
   "id": "08296fd1-44fb-4719-8aea-62823fcedfc7",
   "metadata": {},
   "outputs": [
    {
     "name": "stdout",
     "output_type": "stream",
     "text": [
      "rop =\n",
      "\n",
      "   5   1   1\n",
      "   1   5   1\n",
      "   1   1   5\n",
      "\n"
     ]
    }
   ],
   "source": [
    "op1 = mpfr_t (eye (3) * 4);\n",
    "\n",
    "rop = op1 + 1"
   ]
  },
  {
   "cell_type": "markdown",
   "id": "fde94fb1-810c-4054-827f-433e9c76e887",
   "metadata": {},
   "source": [
    "However, you can adjust the binary precision.\n",
    "\n",
    "The default Octave/Matlab data type **(double)** has a precision of 53 binary digits.\n",
    "Thus the following calculation exceeds the given precision:"
   ]
  },
  {
   "cell_type": "code",
   "execution_count": 4,
   "id": "a5ce76f6-5e5b-4537-89bf-6254e9020265",
   "metadata": {},
   "outputs": [
    {
     "name": "stdout",
     "output_type": "stream",
     "text": [
      "too_small = 8.673617379884035e-19\n",
      "A =\n",
      "\n",
      "   1   1   1\n",
      "   1   1   1\n",
      "   1   1   1\n",
      "\n"
     ]
    }
   ],
   "source": [
    "format long\n",
    "too_small = (2 ^ (-60))\n",
    "A = ones (3);\n",
    "A(3,3) = A(3,3) + too_small"
   ]
  },
  {
   "cell_type": "code",
   "execution_count": 5,
   "id": "0fe3b7be-621f-40ba-86a0-d746cf5f7a3a",
   "metadata": {},
   "outputs": [
    {
     "name": "stdout",
     "output_type": "stream",
     "text": [
      "B =\n",
      "\n",
      "   0   0   0\n",
      "   0   0   0\n",
      "   0   0   0\n",
      "\n"
     ]
    }
   ],
   "source": [
    "B = A - ones (3)"
   ]
  },
  {
   "cell_type": "markdown",
   "id": "63392736-a41a-46db-be9b-26d35f42133c",
   "metadata": {},
   "source": [
    "The same calculation using APA and quadruple precision (113 binary digits):"
   ]
  },
  {
   "cell_type": "code",
   "execution_count": 6,
   "id": "31f2c6ef-eb3d-4b1c-9e7f-9f3c13faf6ce",
   "metadata": {},
   "outputs": [
    {
     "name": "stdout",
     "output_type": "stream",
     "text": [
      "A =\n",
      "\n",
      "   1   1                                       1\n",
      "   1   1                                       1\n",
      "   1   1   1.00000000000000000086736173798840355\n",
      "\n"
     ]
    }
   ],
   "source": [
    "A = mpfr_t (ones (3), 113);\n",
    "A(3,3) = A(3,3) + too_small"
   ]
  },
  {
   "cell_type": "code",
   "execution_count": 7,
   "id": "059d4e75-e597-4ee1-b075-e26692e28e74",
   "metadata": {},
   "outputs": [
    {
     "name": "stdout",
     "output_type": "stream",
     "text": [
      "B =\n",
      "\n",
      "   0 * 2^(-1)   0 * 2^(-1)    0 * 2^(-1)\n",
      "   0 * 2^(-1)   0 * 2^(-1)    0 * 2^(-1)\n",
      "   0 * 2^(-1)   0 * 2^(-1)   1 * 2^(-60)\n",
      "\n"
     ]
    }
   ],
   "source": [
    "apa ('format.fmt', 'scientific')\n",
    "apa ('format.base', 2)\n",
    "B = A - ones (3)"
   ]
  },
  {
   "cell_type": "markdown",
   "id": "0823de62-cf4a-4799-b066-2791bc862f41",
   "metadata": {},
   "source": [
    "The high-level MPFR interface is the preferred choice for quick numerical\n",
    "experiments.\n",
    "\n",
    "However, if performance is more critical, please use the low-level MPFR\n",
    "interface (explained below) and vectorization wherever possible.\n",
    "\n",
    "> Please note that an interface from an interpreted high-level programming\n",
    "> language like Octave/Matlab is most likely slower than a pre-compiled C\n",
    "> program.\n",
    ">\n",
    "> If performance is highly-critical, use this tool for initial experiments\n",
    "> and translate the developed algorithm to native MPFR C-code."
   ]
  },
  {
   "cell_type": "markdown",
   "id": "39dcbdfa-4634-40f9-8a45-1f01ae1611bb",
   "metadata": {},
   "source": [
    "## Low-level MPFR Interface\n",
    "\n",
    "> For information how to compile/develop the interface, see\n",
    "> [`doc/MEX_INTERFACE.md`](https://github.com/gnu-octave/apa/blob/main/doc/MEX_INTERFACE.md).\n",
    "\n",
    "The low-level MPFR interface permits efficient access to almost all functions\n",
    "specified by MPFR 4.1.0 <https://www.mpfr.org/mpfr-4.1.0/mpfr.html>.\n",
    "\n",
    "All supported functions are [listed in the `inst` folder](inst)\n",
    "and can be called from Octave/Matlab like in the C programming language.\n",
    "\n",
    "For example, the C function:\n",
    "\n",
    "```c\n",
    "int mpfr_add (mpfr_t rop, mpfr_t op1, mpfr_t op2, mpfr_rnd_t rnd)\n",
    "```\n",
    "\n",
    "can be called from Octave/Matlab with scalar, vector, or matrix quantities:"
   ]
  },
  {
   "cell_type": "code",
   "execution_count": 8,
   "id": "c0dfe5e1-4eda-4b3f-b779-785ed66ad09d",
   "metadata": {},
   "outputs": [
    {
     "name": "stdout",
     "output_type": "stream",
     "text": [
      "rop =\n",
      "\n",
      "   6   2   2\n",
      "   2   6   2\n",
      "   2   2   6\n",
      "\n"
     ]
    }
   ],
   "source": [
    "% Reset to default APA output.\n",
    "clear apa\n",
    "\n",
    "% Prepare input and output variables.\n",
    "rop = mpfr_t (zeros (3));\n",
    "op1 = mpfr_t (eye (3) * 4);\n",
    "op2 = mpfr_t (2);\n",
    "rnd = mpfr_get_default_rounding_mode ();\n",
    "\n",
    "% Call mpfr_add.  Note unlike Octave/Matlab the\n",
    "% left-hand side does NOT contain the result.\n",
    "ret = mpfr_add (rop, op1, op2, rnd);\n",
    "\n",
    "rop  % Note rop vs. ret!"
   ]
  },
  {
   "cell_type": "markdown",
   "id": "f3002580-752c-499c-b31e-f8fa8b17fb22",
   "metadata": {},
   "source": [
    "In the low-level interface the type checks are stricter,\n",
    "but scalar and matrix quantities can still be mixed.\n",
    "\n",
    "Another benefit of using the low-level MPFR interface is that **in-place**\n",
    "operations are permitted, which do not create new (temporary) variables:"
   ]
  },
  {
   "cell_type": "code",
   "execution_count": 9,
   "id": "92886baf-f06e-43ae-8108-cc3e9cce2c15",
   "metadata": {},
   "outputs": [],
   "source": [
    "ret = mpfr_add (op1, op1, op1, rnd);  % op1 += op1"
   ]
  }
 ],
 "metadata": {
  "kernelspec": {
   "display_name": "Octave",
   "language": "octave",
   "name": "octave"
  },
  "language_info": {
   "file_extension": ".m",
   "help_links": [
    {
     "text": "GNU Octave",
     "url": "https://www.gnu.org/software/octave/support.html"
    },
    {
     "text": "Octave Kernel",
     "url": "https://github.com/Calysto/octave_kernel"
    },
    {
     "text": "MetaKernel Magics",
     "url": "https://metakernel.readthedocs.io/en/latest/source/README.html"
    }
   ],
   "mimetype": "text/x-octave",
   "name": "octave",
   "version": "6.4.0"
  }
 },
 "nbformat": 4,
 "nbformat_minor": 5
}
